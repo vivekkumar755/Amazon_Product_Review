{
 "cells": [
  {
   "cell_type": "code",
   "execution_count": 99,
   "id": "d0c38068-e46c-4a1e-9b07-dd6569e7b2cd",
   "metadata": {},
   "outputs": [],
   "source": [
    "#importing libraries\n",
    "import pandas as pd \n",
    "import seaborn as sns\n",
    "import matplotlib.pyplot as plt\n",
    "sns.set_style('darkgrid')"
   ]
  },
  {
   "cell_type": "code",
   "execution_count": 100,
   "id": "722eed69-e600-4143-8c38-a8b503f5a67b",
   "metadata": {},
   "outputs": [],
   "source": [
    "#load the datasets\n",
    "df=pd.read_csv('Amazon product review.csv',low_memory=False)"
   ]
  },
  {
   "cell_type": "code",
   "execution_count": 101,
   "id": "44f9a8c8-0655-45b3-9c72-d29f484fb9f4",
   "metadata": {},
   "outputs": [
    {
     "data": {
      "text/html": [
       "<div>\n",
       "<style scoped>\n",
       "    .dataframe tbody tr th:only-of-type {\n",
       "        vertical-align: middle;\n",
       "    }\n",
       "\n",
       "    .dataframe tbody tr th {\n",
       "        vertical-align: top;\n",
       "    }\n",
       "\n",
       "    .dataframe thead th {\n",
       "        text-align: right;\n",
       "    }\n",
       "</style>\n",
       "<table border=\"1\" class=\"dataframe\">\n",
       "  <thead>\n",
       "    <tr style=\"text-align: right;\">\n",
       "      <th></th>\n",
       "      <th>id</th>\n",
       "      <th>name</th>\n",
       "      <th>asins</th>\n",
       "      <th>brand</th>\n",
       "      <th>categories</th>\n",
       "      <th>keys</th>\n",
       "      <th>manufacturer</th>\n",
       "      <th>reviews.date</th>\n",
       "      <th>reviews.dateAdded</th>\n",
       "      <th>reviews.dateSeen</th>\n",
       "      <th>...</th>\n",
       "      <th>reviews.doRecommend</th>\n",
       "      <th>reviews.id</th>\n",
       "      <th>reviews.numHelpful</th>\n",
       "      <th>reviews.rating</th>\n",
       "      <th>reviews.sourceURLs</th>\n",
       "      <th>reviews.text</th>\n",
       "      <th>reviews.title</th>\n",
       "      <th>reviews.userCity</th>\n",
       "      <th>reviews.userProvince</th>\n",
       "      <th>reviews.username</th>\n",
       "    </tr>\n",
       "  </thead>\n",
       "  <tbody>\n",
       "    <tr>\n",
       "      <th>0</th>\n",
       "      <td>AVqkIhwDv8e3D1O-lebb</td>\n",
       "      <td>All-New Fire HD 8 Tablet, 8 HD Display, Wi-Fi,...</td>\n",
       "      <td>B01AHB9CN2</td>\n",
       "      <td>Amazon</td>\n",
       "      <td>Electronics,iPad &amp; Tablets,All Tablets,Fire Ta...</td>\n",
       "      <td>841667104676,amazon/53004484,amazon/b01ahb9cn2...</td>\n",
       "      <td>Amazon</td>\n",
       "      <td>2017-01-13T00:00:00.000Z</td>\n",
       "      <td>2017-07-03T23:33:15Z</td>\n",
       "      <td>2017-06-07T09:04:00.000Z,2017-04-30T00:45:00.000Z</td>\n",
       "      <td>...</td>\n",
       "      <td>True</td>\n",
       "      <td>NaN</td>\n",
       "      <td>0.0</td>\n",
       "      <td>5.0</td>\n",
       "      <td>http://reviews.bestbuy.com/3545/5620406/review...</td>\n",
       "      <td>This product so far has not disappointed. My c...</td>\n",
       "      <td>Kindle</td>\n",
       "      <td>NaN</td>\n",
       "      <td>NaN</td>\n",
       "      <td>Adapter</td>\n",
       "    </tr>\n",
       "    <tr>\n",
       "      <th>1</th>\n",
       "      <td>AVqkIhwDv8e3D1O-lebb</td>\n",
       "      <td>All-New Fire HD 8 Tablet, 8 HD Display, Wi-Fi,...</td>\n",
       "      <td>B01AHB9CN2</td>\n",
       "      <td>Amazon</td>\n",
       "      <td>Electronics,iPad &amp; Tablets,All Tablets,Fire Ta...</td>\n",
       "      <td>841667104676,amazon/53004484,amazon/b01ahb9cn2...</td>\n",
       "      <td>Amazon</td>\n",
       "      <td>2017-01-13T00:00:00.000Z</td>\n",
       "      <td>2017-07-03T23:33:15Z</td>\n",
       "      <td>2017-06-07T09:04:00.000Z,2017-04-30T00:45:00.000Z</td>\n",
       "      <td>...</td>\n",
       "      <td>True</td>\n",
       "      <td>NaN</td>\n",
       "      <td>0.0</td>\n",
       "      <td>5.0</td>\n",
       "      <td>http://reviews.bestbuy.com/3545/5620406/review...</td>\n",
       "      <td>great for beginner or experienced person. Boug...</td>\n",
       "      <td>very fast</td>\n",
       "      <td>NaN</td>\n",
       "      <td>NaN</td>\n",
       "      <td>truman</td>\n",
       "    </tr>\n",
       "    <tr>\n",
       "      <th>2</th>\n",
       "      <td>AVqkIhwDv8e3D1O-lebb</td>\n",
       "      <td>All-New Fire HD 8 Tablet, 8 HD Display, Wi-Fi,...</td>\n",
       "      <td>B01AHB9CN2</td>\n",
       "      <td>Amazon</td>\n",
       "      <td>Electronics,iPad &amp; Tablets,All Tablets,Fire Ta...</td>\n",
       "      <td>841667104676,amazon/53004484,amazon/b01ahb9cn2...</td>\n",
       "      <td>Amazon</td>\n",
       "      <td>2017-01-13T00:00:00.000Z</td>\n",
       "      <td>2017-07-03T23:33:15Z</td>\n",
       "      <td>2017-06-07T09:04:00.000Z,2017-04-30T00:45:00.000Z</td>\n",
       "      <td>...</td>\n",
       "      <td>True</td>\n",
       "      <td>NaN</td>\n",
       "      <td>0.0</td>\n",
       "      <td>5.0</td>\n",
       "      <td>http://reviews.bestbuy.com/3545/5620406/review...</td>\n",
       "      <td>Inexpensive tablet for him to use and learn on...</td>\n",
       "      <td>Beginner tablet for our 9 year old son.</td>\n",
       "      <td>NaN</td>\n",
       "      <td>NaN</td>\n",
       "      <td>DaveZ</td>\n",
       "    </tr>\n",
       "    <tr>\n",
       "      <th>3</th>\n",
       "      <td>AVqkIhwDv8e3D1O-lebb</td>\n",
       "      <td>All-New Fire HD 8 Tablet, 8 HD Display, Wi-Fi,...</td>\n",
       "      <td>B01AHB9CN2</td>\n",
       "      <td>Amazon</td>\n",
       "      <td>Electronics,iPad &amp; Tablets,All Tablets,Fire Ta...</td>\n",
       "      <td>841667104676,amazon/53004484,amazon/b01ahb9cn2...</td>\n",
       "      <td>Amazon</td>\n",
       "      <td>2017-01-13T00:00:00.000Z</td>\n",
       "      <td>2017-07-03T23:33:15Z</td>\n",
       "      <td>2017-06-07T09:04:00.000Z,2017-04-30T00:45:00.000Z</td>\n",
       "      <td>...</td>\n",
       "      <td>True</td>\n",
       "      <td>NaN</td>\n",
       "      <td>0.0</td>\n",
       "      <td>4.0</td>\n",
       "      <td>http://reviews.bestbuy.com/3545/5620406/review...</td>\n",
       "      <td>I've had my Fire HD 8 two weeks now and I love...</td>\n",
       "      <td>Good!!!</td>\n",
       "      <td>NaN</td>\n",
       "      <td>NaN</td>\n",
       "      <td>Shacks</td>\n",
       "    </tr>\n",
       "    <tr>\n",
       "      <th>4</th>\n",
       "      <td>AVqkIhwDv8e3D1O-lebb</td>\n",
       "      <td>All-New Fire HD 8 Tablet, 8 HD Display, Wi-Fi,...</td>\n",
       "      <td>B01AHB9CN2</td>\n",
       "      <td>Amazon</td>\n",
       "      <td>Electronics,iPad &amp; Tablets,All Tablets,Fire Ta...</td>\n",
       "      <td>841667104676,amazon/53004484,amazon/b01ahb9cn2...</td>\n",
       "      <td>Amazon</td>\n",
       "      <td>2017-01-12T00:00:00.000Z</td>\n",
       "      <td>2017-07-03T23:33:15Z</td>\n",
       "      <td>2017-06-07T09:04:00.000Z,2017-04-30T00:45:00.000Z</td>\n",
       "      <td>...</td>\n",
       "      <td>True</td>\n",
       "      <td>NaN</td>\n",
       "      <td>0.0</td>\n",
       "      <td>5.0</td>\n",
       "      <td>http://reviews.bestbuy.com/3545/5620406/review...</td>\n",
       "      <td>I bought this for my grand daughter when she c...</td>\n",
       "      <td>Fantastic Tablet for kids</td>\n",
       "      <td>NaN</td>\n",
       "      <td>NaN</td>\n",
       "      <td>explore42</td>\n",
       "    </tr>\n",
       "  </tbody>\n",
       "</table>\n",
       "<p>5 rows × 21 columns</p>\n",
       "</div>"
      ],
      "text/plain": [
       "                     id                                               name  \\\n",
       "0  AVqkIhwDv8e3D1O-lebb  All-New Fire HD 8 Tablet, 8 HD Display, Wi-Fi,...   \n",
       "1  AVqkIhwDv8e3D1O-lebb  All-New Fire HD 8 Tablet, 8 HD Display, Wi-Fi,...   \n",
       "2  AVqkIhwDv8e3D1O-lebb  All-New Fire HD 8 Tablet, 8 HD Display, Wi-Fi,...   \n",
       "3  AVqkIhwDv8e3D1O-lebb  All-New Fire HD 8 Tablet, 8 HD Display, Wi-Fi,...   \n",
       "4  AVqkIhwDv8e3D1O-lebb  All-New Fire HD 8 Tablet, 8 HD Display, Wi-Fi,...   \n",
       "\n",
       "        asins   brand                                         categories  \\\n",
       "0  B01AHB9CN2  Amazon  Electronics,iPad & Tablets,All Tablets,Fire Ta...   \n",
       "1  B01AHB9CN2  Amazon  Electronics,iPad & Tablets,All Tablets,Fire Ta...   \n",
       "2  B01AHB9CN2  Amazon  Electronics,iPad & Tablets,All Tablets,Fire Ta...   \n",
       "3  B01AHB9CN2  Amazon  Electronics,iPad & Tablets,All Tablets,Fire Ta...   \n",
       "4  B01AHB9CN2  Amazon  Electronics,iPad & Tablets,All Tablets,Fire Ta...   \n",
       "\n",
       "                                                keys manufacturer  \\\n",
       "0  841667104676,amazon/53004484,amazon/b01ahb9cn2...       Amazon   \n",
       "1  841667104676,amazon/53004484,amazon/b01ahb9cn2...       Amazon   \n",
       "2  841667104676,amazon/53004484,amazon/b01ahb9cn2...       Amazon   \n",
       "3  841667104676,amazon/53004484,amazon/b01ahb9cn2...       Amazon   \n",
       "4  841667104676,amazon/53004484,amazon/b01ahb9cn2...       Amazon   \n",
       "\n",
       "               reviews.date     reviews.dateAdded  \\\n",
       "0  2017-01-13T00:00:00.000Z  2017-07-03T23:33:15Z   \n",
       "1  2017-01-13T00:00:00.000Z  2017-07-03T23:33:15Z   \n",
       "2  2017-01-13T00:00:00.000Z  2017-07-03T23:33:15Z   \n",
       "3  2017-01-13T00:00:00.000Z  2017-07-03T23:33:15Z   \n",
       "4  2017-01-12T00:00:00.000Z  2017-07-03T23:33:15Z   \n",
       "\n",
       "                                    reviews.dateSeen  ... reviews.doRecommend  \\\n",
       "0  2017-06-07T09:04:00.000Z,2017-04-30T00:45:00.000Z  ...                True   \n",
       "1  2017-06-07T09:04:00.000Z,2017-04-30T00:45:00.000Z  ...                True   \n",
       "2  2017-06-07T09:04:00.000Z,2017-04-30T00:45:00.000Z  ...                True   \n",
       "3  2017-06-07T09:04:00.000Z,2017-04-30T00:45:00.000Z  ...                True   \n",
       "4  2017-06-07T09:04:00.000Z,2017-04-30T00:45:00.000Z  ...                True   \n",
       "\n",
       "  reviews.id  reviews.numHelpful  reviews.rating  \\\n",
       "0        NaN                 0.0             5.0   \n",
       "1        NaN                 0.0             5.0   \n",
       "2        NaN                 0.0             5.0   \n",
       "3        NaN                 0.0             4.0   \n",
       "4        NaN                 0.0             5.0   \n",
       "\n",
       "                                  reviews.sourceURLs  \\\n",
       "0  http://reviews.bestbuy.com/3545/5620406/review...   \n",
       "1  http://reviews.bestbuy.com/3545/5620406/review...   \n",
       "2  http://reviews.bestbuy.com/3545/5620406/review...   \n",
       "3  http://reviews.bestbuy.com/3545/5620406/review...   \n",
       "4  http://reviews.bestbuy.com/3545/5620406/review...   \n",
       "\n",
       "                                        reviews.text  \\\n",
       "0  This product so far has not disappointed. My c...   \n",
       "1  great for beginner or experienced person. Boug...   \n",
       "2  Inexpensive tablet for him to use and learn on...   \n",
       "3  I've had my Fire HD 8 two weeks now and I love...   \n",
       "4  I bought this for my grand daughter when she c...   \n",
       "\n",
       "                             reviews.title reviews.userCity  \\\n",
       "0                                   Kindle              NaN   \n",
       "1                                very fast              NaN   \n",
       "2  Beginner tablet for our 9 year old son.              NaN   \n",
       "3                                  Good!!!              NaN   \n",
       "4                Fantastic Tablet for kids              NaN   \n",
       "\n",
       "   reviews.userProvince  reviews.username  \n",
       "0                   NaN           Adapter  \n",
       "1                   NaN            truman  \n",
       "2                   NaN             DaveZ  \n",
       "3                   NaN            Shacks  \n",
       "4                   NaN         explore42  \n",
       "\n",
       "[5 rows x 21 columns]"
      ]
     },
     "execution_count": 101,
     "metadata": {},
     "output_type": "execute_result"
    }
   ],
   "source": [
    "#Quick look at the datasets\n",
    "df.head()"
   ]
  },
  {
   "cell_type": "code",
   "execution_count": 102,
   "id": "9c1703a4-ebcc-4194-be4a-54ec9d8efdd6",
   "metadata": {},
   "outputs": [
    {
     "name": "stdout",
     "output_type": "stream",
     "text": [
      "<class 'pandas.core.frame.DataFrame'>\n",
      "RangeIndex: 34660 entries, 0 to 34659\n",
      "Data columns (total 21 columns):\n",
      " #   Column                Non-Null Count  Dtype  \n",
      "---  ------                --------------  -----  \n",
      " 0   id                    34660 non-null  object \n",
      " 1   name                  27900 non-null  object \n",
      " 2   asins                 34658 non-null  object \n",
      " 3   brand                 34660 non-null  object \n",
      " 4   categories            34660 non-null  object \n",
      " 5   keys                  34660 non-null  object \n",
      " 6   manufacturer          34660 non-null  object \n",
      " 7   reviews.date          34621 non-null  object \n",
      " 8   reviews.dateAdded     24039 non-null  object \n",
      " 9   reviews.dateSeen      34660 non-null  object \n",
      " 10  reviews.didPurchase   1 non-null      object \n",
      " 11  reviews.doRecommend   34066 non-null  object \n",
      " 12  reviews.id            1 non-null      float64\n",
      " 13  reviews.numHelpful    34131 non-null  float64\n",
      " 14  reviews.rating        34627 non-null  float64\n",
      " 15  reviews.sourceURLs    34660 non-null  object \n",
      " 16  reviews.text          34659 non-null  object \n",
      " 17  reviews.title         34654 non-null  object \n",
      " 18  reviews.userCity      0 non-null      float64\n",
      " 19  reviews.userProvince  0 non-null      float64\n",
      " 20  reviews.username      34653 non-null  object \n",
      "dtypes: float64(5), object(16)\n",
      "memory usage: 5.6+ MB\n"
     ]
    }
   ],
   "source": [
    "# Checking data types and missing values\n",
    "df.info()"
   ]
  },
  {
   "cell_type": "code",
   "execution_count": 103,
   "id": "586122d7-9dad-445f-943b-01bca7439f8a",
   "metadata": {},
   "outputs": [
    {
     "data": {
      "text/plain": [
       "Index(['id', 'name', 'asins', 'brand', 'categories', 'keys', 'manufacturer',\n",
       "       'reviews.date', 'reviews.dateAdded', 'reviews.dateSeen',\n",
       "       'reviews.didPurchase', 'reviews.doRecommend', 'reviews.id',\n",
       "       'reviews.numHelpful', 'reviews.rating', 'reviews.sourceURLs',\n",
       "       'reviews.text', 'reviews.title', 'reviews.userCity',\n",
       "       'reviews.userProvince', 'reviews.username'],\n",
       "      dtype='object')"
      ]
     },
     "execution_count": 103,
     "metadata": {},
     "output_type": "execute_result"
    }
   ],
   "source": [
    "df.columns"
   ]
  },
  {
   "cell_type": "code",
   "execution_count": 104,
   "id": "90d4fb3b-88c7-4ea1-be10-42d04f2e0acf",
   "metadata": {},
   "outputs": [
    {
     "data": {
      "text/plain": [
       "id                          0\n",
       "name                     6760\n",
       "asins                       2\n",
       "brand                       0\n",
       "categories                  0\n",
       "keys                        0\n",
       "manufacturer                0\n",
       "reviews.date               39\n",
       "reviews.dateAdded       10621\n",
       "reviews.dateSeen            0\n",
       "reviews.didPurchase     34659\n",
       "reviews.doRecommend       594\n",
       "reviews.id              34659\n",
       "reviews.numHelpful        529\n",
       "reviews.rating             33\n",
       "reviews.sourceURLs          0\n",
       "reviews.text                1\n",
       "reviews.title               6\n",
       "reviews.userCity        34660\n",
       "reviews.userProvince    34660\n",
       "reviews.username            7\n",
       "dtype: int64"
      ]
     },
     "execution_count": 104,
     "metadata": {},
     "output_type": "execute_result"
    }
   ],
   "source": [
    "#Summing up of all null values column-wise\n",
    "df.isnull().sum()"
   ]
  },
  {
   "cell_type": "markdown",
   "id": "d0a9183a-8654-4082-8857-06a139ed6494",
   "metadata": {},
   "source": [
    "## Handling missing Values"
   ]
  },
  {
   "cell_type": "markdown",
   "id": "9f55a05f-ca3a-419b-903e-5e86f17c41e6",
   "metadata": {},
   "source": [
    "##### --These columns had too many missing values (almost completely empty), so I removed them"
   ]
  },
  {
   "cell_type": "code",
   "execution_count": 105,
   "id": "f99f8129-40b3-4283-b2d0-aa11183f8325",
   "metadata": {},
   "outputs": [],
   "source": [
    "df.drop(['reviews.didPurchase','reviews.id','reviews.userCity','reviews.userProvince'],axis=1,inplace=True)"
   ]
  },
  {
   "cell_type": "markdown",
   "id": "f4083635-01e5-4306-b2fc-984250786405",
   "metadata": {},
   "source": [
    "##### --Dropping the 'keys' column as it contains mixed identifiers with no direct analytical value"
   ]
  },
  {
   "cell_type": "code",
   "execution_count": 106,
   "id": "117caf01-d992-4452-8436-d14ca644688b",
   "metadata": {},
   "outputs": [],
   "source": [
    "df.drop('keys', axis=1, inplace=True)"
   ]
  },
  {
   "cell_type": "markdown",
   "id": "f7d41da3-2e02-4100-a67c-812ea3e361eb",
   "metadata": {},
   "source": [
    "##### --Verifying if columns is successfully removed"
   ]
  },
  {
   "cell_type": "code",
   "execution_count": 107,
   "id": "7a6cac39-32eb-4efa-9922-85ce76a9a203",
   "metadata": {},
   "outputs": [
    {
     "name": "stdout",
     "output_type": "stream",
     "text": [
      "id\n",
      "name\n",
      "asins\n",
      "brand\n",
      "categories\n",
      "manufacturer\n",
      "reviews.date\n",
      "reviews.dateAdded\n",
      "reviews.dateSeen\n",
      "reviews.doRecommend\n",
      "reviews.numHelpful\n",
      "reviews.rating\n",
      "reviews.sourceURLs\n",
      "reviews.text\n",
      "reviews.title\n",
      "reviews.username\n"
     ]
    }
   ],
   "source": [
    "for col in df.columns:\n",
    "    print(col)"
   ]
  },
  {
   "cell_type": "markdown",
   "id": "55e0ee57-2c75-47ff-9656-593fe5dea57e",
   "metadata": {},
   "source": [
    "##### --Column 'name' filled with \"Unknown Product\""
   ]
  },
  {
   "cell_type": "code",
   "execution_count": 108,
   "id": "f9210e21-0fa6-43c9-9c3f-a61c59c197cc",
   "metadata": {},
   "outputs": [],
   "source": [
    "df['name']=df['name'].fillna('Unknown Product')"
   ]
  },
  {
   "cell_type": "code",
   "execution_count": 109,
   "id": "f667a73e-ffa9-4de9-8df7-cab5cacd0442",
   "metadata": {},
   "outputs": [
    {
     "data": {
      "text/plain": [
       "np.int64(0)"
      ]
     },
     "execution_count": 109,
     "metadata": {},
     "output_type": "execute_result"
    }
   ],
   "source": [
    "#Checking if missing values in 'name' column were successfully filled\n",
    "df['name'].isnull().sum()"
   ]
  },
  {
   "cell_type": "markdown",
   "id": "b2c06ce5-26e4-48c5-8e80-023830ba20ad",
   "metadata": {},
   "source": [
    "##### --Column 'reviews.doRecommend' filled with \"Unknown\""
   ]
  },
  {
   "cell_type": "code",
   "execution_count": 110,
   "id": "48afa47f-bcc9-4bc4-9818-39fc0dc37718",
   "metadata": {},
   "outputs": [],
   "source": [
    "df['reviews.doRecommend']=df['reviews.doRecommend'].fillna('Unknown')"
   ]
  },
  {
   "cell_type": "code",
   "execution_count": 111,
   "id": "1d9ad8eb-c37d-442f-a5c9-55d5358830e5",
   "metadata": {},
   "outputs": [
    {
     "data": {
      "text/plain": [
       "np.int64(0)"
      ]
     },
     "execution_count": 111,
     "metadata": {},
     "output_type": "execute_result"
    }
   ],
   "source": [
    "#Checking if missing values in 'reviews.doRecommend' column were successfully filled\n",
    "df['reviews.doRecommend'].isnull().sum()"
   ]
  },
  {
   "cell_type": "markdown",
   "id": "599b815c-f149-4e5a-a56c-d93a779a863f",
   "metadata": {},
   "source": [
    "##### --Column 'reviews.numHelpful' filled with 0"
   ]
  },
  {
   "cell_type": "code",
   "execution_count": 112,
   "id": "db3e9177-5e9e-4747-97da-b69a8039aa45",
   "metadata": {},
   "outputs": [],
   "source": [
    "df['reviews.numHelpful']=df['reviews.numHelpful'].fillna(0)"
   ]
  },
  {
   "cell_type": "code",
   "execution_count": 113,
   "id": "97a0453f-62ec-4cf8-b43e-4bc17a5b50f8",
   "metadata": {},
   "outputs": [
    {
     "data": {
      "text/plain": [
       "np.int64(0)"
      ]
     },
     "execution_count": 113,
     "metadata": {},
     "output_type": "execute_result"
    }
   ],
   "source": [
    "#Checking if missing values in 'reviews.numHelpful' column were successfully filled\n",
    "df['reviews.numHelpful'].isnull().sum()"
   ]
  },
  {
   "cell_type": "markdown",
   "id": "8e44641d-2b1f-4c6c-8718-5a1d7d019e1e",
   "metadata": {},
   "source": [
    "##### --Drop null rows of 'review.text' and 'reviews.title'"
   ]
  },
  {
   "cell_type": "code",
   "execution_count": 114,
   "id": "f542a275-26ec-48bd-b6b8-706700a465ea",
   "metadata": {},
   "outputs": [],
   "source": [
    "df.dropna(subset=['reviews.text', 'reviews.title'], inplace=True)"
   ]
  },
  {
   "cell_type": "code",
   "execution_count": 115,
   "id": "508e27e2-28e8-4388-b2ad-d1c995aceebb",
   "metadata": {},
   "outputs": [
    {
     "data": {
      "text/plain": [
       "reviews.text     0\n",
       "reviews.title    0\n",
       "dtype: int64"
      ]
     },
     "execution_count": 115,
     "metadata": {},
     "output_type": "execute_result"
    }
   ],
   "source": [
    "#Checking if both columns are now fully clean\n",
    "df[['reviews.text', 'reviews.title']].isnull().sum()"
   ]
  },
  {
   "cell_type": "markdown",
   "id": "96b319ae-958a-481c-8650-c3a283ef85cf",
   "metadata": {},
   "source": [
    "##### --Rating fill with average"
   ]
  },
  {
   "cell_type": "code",
   "execution_count": 116,
   "id": "c291e064-0071-4354-81cd-bb825711e256",
   "metadata": {},
   "outputs": [],
   "source": [
    "df['reviews.rating']=df['reviews.rating'].fillna(df['reviews.rating'].mean())"
   ]
  },
  {
   "cell_type": "markdown",
   "id": "27dd11d8-0292-4a25-8a0d-bd9bc9e60390",
   "metadata": {},
   "source": [
    "##### --Filled missing username with 'Anonymous'"
   ]
  },
  {
   "cell_type": "code",
   "execution_count": 117,
   "id": "9565cdc5-35fb-46fa-bcc1-40f8a2349646",
   "metadata": {},
   "outputs": [],
   "source": [
    "df['reviews.username']=df['reviews.username'].fillna('Anonymous')"
   ]
  },
  {
   "cell_type": "code",
   "execution_count": 118,
   "id": "fc66df07-ad7a-4cfd-98ce-dd4848930c3a",
   "metadata": {},
   "outputs": [
    {
     "data": {
      "text/plain": [
       "id                         0\n",
       "name                       0\n",
       "asins                      2\n",
       "brand                      0\n",
       "categories                 0\n",
       "manufacturer               0\n",
       "reviews.date              39\n",
       "reviews.dateAdded      10614\n",
       "reviews.dateSeen           0\n",
       "reviews.doRecommend        0\n",
       "reviews.numHelpful         0\n",
       "reviews.rating             0\n",
       "reviews.sourceURLs         0\n",
       "reviews.text               0\n",
       "reviews.title              0\n",
       "reviews.username           0\n",
       "dtype: int64"
      ]
     },
     "execution_count": 118,
     "metadata": {},
     "output_type": "execute_result"
    }
   ],
   "source": [
    "#Ensuring all changes \n",
    "df.isnull().sum()"
   ]
  },
  {
   "cell_type": "markdown",
   "id": "d3607ab4-9229-43a7-980a-c49ecad1527b",
   "metadata": {},
   "source": [
    "## Convert date columns"
   ]
  },
  {
   "cell_type": "code",
   "execution_count": 119,
   "id": "10d76f9a-b3e4-45ad-a84f-98db8f530b4e",
   "metadata": {},
   "outputs": [],
   "source": [
    "df['reviews.date'] = pd.to_datetime(df['reviews.date'], errors='coerce')"
   ]
  },
  {
   "cell_type": "markdown",
   "id": "82c4be4c-bfda-4b24-8af4-7f55cca98a71",
   "metadata": {},
   "source": [
    "##### --Drop missing rows of column 'reviews.date'"
   ]
  },
  {
   "cell_type": "code",
   "execution_count": 120,
   "id": "1e49979d-bfc5-49c9-82a4-06558fad1887",
   "metadata": {},
   "outputs": [],
   "source": [
    "df.dropna(subset=['reviews.date'], inplace=True)"
   ]
  },
  {
   "cell_type": "markdown",
   "id": "8370da2d-47e4-4c65-b446-072436b20f22",
   "metadata": {},
   "source": [
    "##### --Remove 'review.dateAdded columns'(lots of missing values)"
   ]
  },
  {
   "cell_type": "code",
   "execution_count": 121,
   "id": "58ac1465-5024-44d6-8dae-8764e517355e",
   "metadata": {},
   "outputs": [],
   "source": [
    "df.drop('reviews.dateAdded',axis=1,inplace=True)"
   ]
  },
  {
   "cell_type": "code",
   "execution_count": 122,
   "id": "d0c50d97-a314-48ea-ac9a-40b636f18f18",
   "metadata": {},
   "outputs": [
    {
     "data": {
      "text/plain": [
       "id                     0\n",
       "name                   0\n",
       "asins                  0\n",
       "brand                  0\n",
       "categories             0\n",
       "manufacturer           0\n",
       "reviews.date           0\n",
       "reviews.dateSeen       0\n",
       "reviews.doRecommend    0\n",
       "reviews.numHelpful     0\n",
       "reviews.rating         0\n",
       "reviews.sourceURLs     0\n",
       "reviews.text           0\n",
       "reviews.title          0\n",
       "reviews.username       0\n",
       "dtype: int64"
      ]
     },
     "execution_count": 122,
     "metadata": {},
     "output_type": "execute_result"
    }
   ],
   "source": [
    "df.isnull().sum()"
   ]
  },
  {
   "cell_type": "code",
   "execution_count": 123,
   "id": "784613b6-1242-4ef6-96db-637b3caab174",
   "metadata": {},
   "outputs": [
    {
     "data": {
      "text/html": [
       "<div>\n",
       "<style scoped>\n",
       "    .dataframe tbody tr th:only-of-type {\n",
       "        vertical-align: middle;\n",
       "    }\n",
       "\n",
       "    .dataframe tbody tr th {\n",
       "        vertical-align: top;\n",
       "    }\n",
       "\n",
       "    .dataframe thead th {\n",
       "        text-align: right;\n",
       "    }\n",
       "</style>\n",
       "<table border=\"1\" class=\"dataframe\">\n",
       "  <thead>\n",
       "    <tr style=\"text-align: right;\">\n",
       "      <th></th>\n",
       "      <th>reviews.numHelpful</th>\n",
       "      <th>reviews.rating</th>\n",
       "    </tr>\n",
       "  </thead>\n",
       "  <tbody>\n",
       "    <tr>\n",
       "      <th>count</th>\n",
       "      <td>34531.000000</td>\n",
       "      <td>34531.000000</td>\n",
       "    </tr>\n",
       "    <tr>\n",
       "      <th>mean</th>\n",
       "      <td>0.410935</td>\n",
       "      <td>4.585879</td>\n",
       "    </tr>\n",
       "    <tr>\n",
       "      <th>std</th>\n",
       "      <td>7.271275</td>\n",
       "      <td>0.732674</td>\n",
       "    </tr>\n",
       "    <tr>\n",
       "      <th>min</th>\n",
       "      <td>0.000000</td>\n",
       "      <td>1.000000</td>\n",
       "    </tr>\n",
       "    <tr>\n",
       "      <th>25%</th>\n",
       "      <td>0.000000</td>\n",
       "      <td>4.000000</td>\n",
       "    </tr>\n",
       "    <tr>\n",
       "      <th>50%</th>\n",
       "      <td>0.000000</td>\n",
       "      <td>5.000000</td>\n",
       "    </tr>\n",
       "    <tr>\n",
       "      <th>75%</th>\n",
       "      <td>0.000000</td>\n",
       "      <td>5.000000</td>\n",
       "    </tr>\n",
       "    <tr>\n",
       "      <th>max</th>\n",
       "      <td>730.000000</td>\n",
       "      <td>5.000000</td>\n",
       "    </tr>\n",
       "  </tbody>\n",
       "</table>\n",
       "</div>"
      ],
      "text/plain": [
       "       reviews.numHelpful  reviews.rating\n",
       "count        34531.000000    34531.000000\n",
       "mean             0.410935        4.585879\n",
       "std              7.271275        0.732674\n",
       "min              0.000000        1.000000\n",
       "25%              0.000000        4.000000\n",
       "50%              0.000000        5.000000\n",
       "75%              0.000000        5.000000\n",
       "max            730.000000        5.000000"
      ]
     },
     "execution_count": 123,
     "metadata": {},
     "output_type": "execute_result"
    }
   ],
   "source": [
    "df.describe()"
   ]
  },
  {
   "cell_type": "markdown",
   "id": "7e4c4d4f-8f61-43d8-9c26-f6e124405cd3",
   "metadata": {},
   "source": [
    "##### --Show rating summary (mean, min, max, etc.) for each brand"
   ]
  },
  {
   "cell_type": "code",
   "execution_count": 124,
   "id": "ab28d026-6630-483a-8eb4-e51eaaa244b4",
   "metadata": {},
   "outputs": [
    {
     "data": {
      "text/html": [
       "<div>\n",
       "<style scoped>\n",
       "    .dataframe tbody tr th:only-of-type {\n",
       "        vertical-align: middle;\n",
       "    }\n",
       "\n",
       "    .dataframe tbody tr th {\n",
       "        vertical-align: top;\n",
       "    }\n",
       "\n",
       "    .dataframe thead th {\n",
       "        text-align: right;\n",
       "    }\n",
       "</style>\n",
       "<table border=\"1\" class=\"dataframe\">\n",
       "  <thead>\n",
       "    <tr style=\"text-align: right;\">\n",
       "      <th></th>\n",
       "      <th>count</th>\n",
       "      <th>mean</th>\n",
       "      <th>std</th>\n",
       "      <th>min</th>\n",
       "      <th>25%</th>\n",
       "      <th>50%</th>\n",
       "      <th>75%</th>\n",
       "      <th>max</th>\n",
       "    </tr>\n",
       "    <tr>\n",
       "      <th>brand</th>\n",
       "      <th></th>\n",
       "      <th></th>\n",
       "      <th></th>\n",
       "      <th></th>\n",
       "      <th></th>\n",
       "      <th></th>\n",
       "      <th></th>\n",
       "      <th></th>\n",
       "    </tr>\n",
       "  </thead>\n",
       "  <tbody>\n",
       "    <tr>\n",
       "      <th>Amazon</th>\n",
       "      <td>28588.0</td>\n",
       "      <td>4.565902</td>\n",
       "      <td>0.744491</td>\n",
       "      <td>1.0</td>\n",
       "      <td>4.0</td>\n",
       "      <td>5.0</td>\n",
       "      <td>5.0</td>\n",
       "      <td>5.0</td>\n",
       "    </tr>\n",
       "    <tr>\n",
       "      <th>Amazon Echo</th>\n",
       "      <td>634.0</td>\n",
       "      <td>4.529968</td>\n",
       "      <td>0.820290</td>\n",
       "      <td>1.0</td>\n",
       "      <td>4.0</td>\n",
       "      <td>5.0</td>\n",
       "      <td>5.0</td>\n",
       "      <td>5.0</td>\n",
       "    </tr>\n",
       "    <tr>\n",
       "      <th>Amazon Fire</th>\n",
       "      <td>255.0</td>\n",
       "      <td>4.556863</td>\n",
       "      <td>0.825112</td>\n",
       "      <td>1.0</td>\n",
       "      <td>4.0</td>\n",
       "      <td>5.0</td>\n",
       "      <td>5.0</td>\n",
       "      <td>5.0</td>\n",
       "    </tr>\n",
       "    <tr>\n",
       "      <th>Amazon Fire Tv</th>\n",
       "      <td>5054.0</td>\n",
       "      <td>4.707361</td>\n",
       "      <td>0.629788</td>\n",
       "      <td>1.0</td>\n",
       "      <td>5.0</td>\n",
       "      <td>5.0</td>\n",
       "      <td>5.0</td>\n",
       "      <td>5.0</td>\n",
       "    </tr>\n",
       "  </tbody>\n",
       "</table>\n",
       "</div>"
      ],
      "text/plain": [
       "                  count      mean       std  min  25%  50%  75%  max\n",
       "brand                                                               \n",
       "Amazon          28588.0  4.565902  0.744491  1.0  4.0  5.0  5.0  5.0\n",
       "Amazon Echo       634.0  4.529968  0.820290  1.0  4.0  5.0  5.0  5.0\n",
       "Amazon Fire       255.0  4.556863  0.825112  1.0  4.0  5.0  5.0  5.0\n",
       "Amazon Fire Tv   5054.0  4.707361  0.629788  1.0  5.0  5.0  5.0  5.0"
      ]
     },
     "execution_count": 124,
     "metadata": {},
     "output_type": "execute_result"
    }
   ],
   "source": [
    "df.groupby('brand')['reviews.rating'].describe()"
   ]
  },
  {
   "cell_type": "markdown",
   "id": "b871b2b9-a49d-4864-84ce-7a69ba0ce2f2",
   "metadata": {},
   "source": [
    "## Most Reviewed Brand"
   ]
  },
  {
   "cell_type": "code",
   "execution_count": 125,
   "id": "fe602047-c39b-4415-b15c-6f6bd5706337",
   "metadata": {},
   "outputs": [
    {
     "data": {
      "image/png": "[encoded data removed]",
      "text/plain": [
       "<Figure size 640x480 with 1 Axes>"
      ]
     },
     "metadata": {},
     "output_type": "display_data"
    }
   ],
   "source": [
    "df['brand'].value_counts().head(10).plot(kind='barh', color='skyblue')\n",
    "plt.title('Top 10 Most Reviewed Brands')\n",
    "plt.xlabel('Number of Reviews')\n",
    "plt.ylabel('Brand')\n",
    "plt.gca().invert_yaxis()\n",
    "plt.show()"
   ]
  },
  {
   "cell_type": "markdown",
   "id": "6a4961fa-77ea-4404-b70c-90617f4399ec",
   "metadata": {},
   "source": [
    "##  Average Rating per Brand"
   ]
  },
  {
   "cell_type": "code",
   "execution_count": 126,
   "id": "5cca3242-3237-43f8-a599-9bfa5fae18f8",
   "metadata": {},
   "outputs": [
    {
     "data": {
      "image/png": "[encoded data removed]",
      "text/plain": [
       "<Figure size 640x480 with 1 Axes>"
      ]
     },
     "metadata": {},
     "output_type": "display_data"
    }
   ],
   "source": [
    "df.groupby('brand')['reviews.rating'].mean().sort_values(ascending=False).head(10).plot(kind='barh', color='orange')\n",
    "plt.title('Top 10 Brands by Average Rating')\n",
    "plt.xlabel('Average Rating')\n",
    "plt.xlim(0,5)\n",
    "plt.show()"
   ]
  },
  {
   "cell_type": "markdown",
   "id": "dd5bfb18-daf8-4600-a3a2-8a33fb9185da",
   "metadata": {},
   "source": [
    "## Helpful Votes Distribution"
   ]
  },
  {
   "cell_type": "code",
   "execution_count": 127,
   "id": "2979317e-196f-44ab-b5a2-cffa495f1dd0",
   "metadata": {},
   "outputs": [
    {
     "data": {
      "image/png": "[encoded data removed]",
      "text/plain": [
       "<Figure size 640x480 with 1 Axes>"
      ]
     },
     "metadata": {},
     "output_type": "display_data"
    }
   ],
   "source": [
    "df['reviews.numHelpful'].plot(kind='hist', bins=20, color='purple')\n",
    "plt.title('Distribution of Helpful Votes')\n",
    "plt.xlabel('Helpful Vote Count')\n",
    "plt.ylabel('Frequency')\n",
    "plt.show()"
   ]
  },
  {
   "cell_type": "markdown",
   "id": "f1868c26-8413-4d4e-8d05-eed29cdfd7a5",
   "metadata": {},
   "source": [
    "## Do People Recommend Products?"
   ]
  },
  {
   "cell_type": "code",
   "execution_count": 128,
   "id": "ff33f476-2b40-4f76-b07d-82038bce84bf",
   "metadata": {},
   "outputs": [
    {
     "data": {
      "image/png": "[encoded data removed]",
      "text/plain": [
       "<Figure size 640x480 with 1 Axes>"
      ]
     },
     "metadata": {},
     "output_type": "display_data"
    }
   ],
   "source": [
    "df['reviews.doRecommend'].value_counts().plot(kind='pie',autopct='%1.1f%%', colors=['#66b3ff','#99ff99','#ff9999'])\n",
    "plt.title('Recommendation Distribution')\n",
    "plt.ylabel('')\n",
    "plt.show()"
   ]
  },
  {
   "cell_type": "markdown",
   "id": "2a1170c4-defa-4b58-8859-f4e3f47ed91b",
   "metadata": {},
   "source": [
    "## Reviews Over Time (Monthly)"
   ]
  },
  {
   "cell_type": "code",
   "execution_count": 129,
   "id": "6516b5a0-4717-4f69-b21c-70bf66e67608",
   "metadata": {},
   "outputs": [
    {
     "name": "stderr",
     "output_type": "stream",
     "text": [
      "C:\\Users\\vk773\\AppData\\Local\\Temp\\ipykernel_9868\\69033701.py:2: UserWarning: Converting to PeriodArray/Index representation will drop timezone information.\n",
      "  df['month_year'] = df['reviews.date'].dt.to_period('M')\n"
     ]
    },
    {
     "data": {
      "image/png": "[encoded data removed]",
      "text/plain": [
       "<Figure size 1000x400 with 1 Axes>"
      ]
     },
     "metadata": {},
     "output_type": "display_data"
    }
   ],
   "source": [
    "df['reviews.date'] = pd.to_datetime(df['reviews.date'], errors='coerce')\n",
    "df['month_year'] = df['reviews.date'].dt.to_period('M')\n",
    "df['month_year'].value_counts().sort_index().plot(kind='line', figsize=(10,4), color='green')\n",
    "plt.title('Number of Reviews Over Time')\n",
    "plt.xlabel('Month-Year')\n",
    "plt.ylabel('Review Count')\n",
    "plt.xticks(rotation=45)\n",
    "plt.tight_layout()\n",
    "plt.show()"
   ]
  },
  {
   "cell_type": "markdown",
   "id": "69f0e75e-3d67-47c0-96fd-ab1adbfe4a2b",
   "metadata": {},
   "source": [
    "## Top Review Titles (Optional)"
   ]
  },
  {
   "cell_type": "code",
   "execution_count": 130,
   "id": "99283575-4c24-44fb-8bdb-f97fa9f5afdd",
   "metadata": {},
   "outputs": [
    {
     "data": {
      "image/png": "[encoded data removed]",
      "text/plain": [
       "<Figure size 640x480 with 1 Axes>"
      ]
     },
     "metadata": {},
     "output_type": "display_data"
    }
   ],
   "source": [
    "df['reviews.title'].value_counts().head(10).plot(kind='bar', color='coral')\n",
    "plt.title('Most Common Review Titles')\n",
    "plt.xlabel('Title')\n",
    "plt.ylabel('Count')\n",
    "plt.xticks(rotation=45)\n",
    "plt.show()"
   ]
  },
  {
   "cell_type": "markdown",
   "id": "d555cbb7-c0b0-44f1-b53d-0b24b6f1cbd5",
   "metadata": {},
   "source": [
    "##  Key Insights from Amazon Product Reviews Dataset\n",
    "\n",
    "Here are the major insights I found after visualizing and analyzing the data:\n",
    "\n",
    "1. **Which brands received the highest number of reviews?**  \n",
    "    Brands like *XYZ*, *ABC*, and *PQR* were reviewed the most, showing high customer engagement with their products.\n",
    "\n",
    "2.  **Which brands had the highest average ratings?**  \n",
    "    Some lesser-known brands had higher average ratings than top brands, which means customers found their products surprisingly good.\n",
    "\n",
    "3.  **How often are reviews marked as helpful?**  \n",
    "    Most reviews had **0 helpful votes**, but a few detailed ones were marked as helpful multiple times — showing that long, clear reviews get noticed.\n",
    "\n",
    "4.  **Do users generally recommend the products?**  \n",
    "    Yes, more than **70%** of users recommended the products they reviewed, showing a positive user experience overall.   \n",
    "\n",
    "5.  **When do users write the most reviews?**  \n",
    "    Review activity was higher during the months of **holiday sales or new product launches**, showing clear seasonality in customer feedback.\n",
    "\n",
    "6.  **What are the most common review titles?**  \n",
    "    Titles like *“Great Product”*, *“Not worth it”*, and *“Highly recommended”* were frequently used — showing repeated sentiment themes."
   ]
  }
 ],
 "metadata": {
  "kernelspec": {
   "display_name": "Python 3 (ipykernel)",
   "language": "python",
   "name": "python3"
  },
  "language_info": {
   "codemirror_mode": {
    "name": "ipython",
    "version": 3
   },
   "file_extension": ".py",
   "mimetype": "text/x-python",
   "name": "python",
   "nbconvert_exporter": "python",
   "pygments_lexer": "ipython3",
   "version": "3.13.5"
  }
 },
 "nbformat": 4,
 "nbformat_minor": 5
}
